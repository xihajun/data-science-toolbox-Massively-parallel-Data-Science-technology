{
 "cells": [
  {
   "cell_type": "code",
   "execution_count": null,
   "metadata": {},
   "outputs": [
    {
     "name": "stdout",
     "output_type": "stream",
     "text": [
      "Python 3.7.1 (default, Dec 14 2018, 13:28:58) \n",
      "[Clang 4.0.1 (tags/RELEASE_401/final)] :: Anaconda, Inc. on darwin\n",
      "Type \"help\", \"copyright\", \"credits\" or \"license\" for more information.\n",
      "Exception in thread \"main\" java.lang.ExceptionInInitializerError\n",
      "\tat org.apache.hadoop.util.StringUtils.<clinit>(StringUtils.java:80)\n",
      "\tat org.apache.hadoop.security.SecurityUtil.getAuthenticationMethod(SecurityUtil.java:611)\n",
      "\tat org.apache.hadoop.security.UserGroupInformation.initialize(UserGroupInformation.java:273)\n",
      "\tat org.apache.hadoop.security.UserGroupInformation.ensureInitialized(UserGroupInformation.java:261)\n",
      "\tat org.apache.hadoop.security.UserGroupInformation.loginUserFromSubject(UserGroupInformation.java:791)\n",
      "\tat org.apache.hadoop.security.UserGroupInformation.getLoginUser(UserGroupInformation.java:761)\n",
      "\tat org.apache.hadoop.security.UserGroupInformation.getCurrentUser(UserGroupInformation.java:634)\n",
      "\tat org.apache.spark.util.Utils$$anonfun$getCurrentUserName$1.apply(Utils.scala:2422)\n",
      "\tat org.apache.spark.util.Utils$$anonfun$getCurrentUserName$1.apply(Utils.scala:2422)\n",
      "\tat scala.Option.getOrElse(Option.scala:121)\n",
      "\tat org.apache.spark.util.Utils$.getCurrentUserName(Utils.scala:2422)\n",
      "\tat org.apache.spark.SecurityManager.<init>(SecurityManager.scala:79)\n",
      "\tat org.apache.spark.deploy.SparkSubmit.secMgr$lzycompute$1(SparkSubmit.scala:359)\n",
      "\tat org.apache.spark.deploy.SparkSubmit.org$apache$spark$deploy$SparkSubmit$$secMgr$1(SparkSubmit.scala:359)\n",
      "\tat org.apache.spark.deploy.SparkSubmit$$anonfun$prepareSubmitEnvironment$7.apply(SparkSubmit.scala:367)\n",
      "\tat org.apache.spark.deploy.SparkSubmit$$anonfun$prepareSubmitEnvironment$7.apply(SparkSubmit.scala:367)\n",
      "\tat scala.Option.map(Option.scala:146)\n",
      "\tat org.apache.spark.deploy.SparkSubmit.prepareSubmitEnvironment(SparkSubmit.scala:366)\n",
      "\tat org.apache.spark.deploy.SparkSubmit.submit(SparkSubmit.scala:143)\n",
      "\tat org.apache.spark.deploy.SparkSubmit.doSubmit(SparkSubmit.scala:86)\n",
      "\tat org.apache.spark.deploy.SparkSubmit$$anon$2.doSubmit(SparkSubmit.scala:924)\n",
      "\tat org.apache.spark.deploy.SparkSubmit$.main(SparkSubmit.scala:933)\n",
      "\tat org.apache.spark.deploy.SparkSubmit.main(SparkSubmit.scala)\n",
      "Caused by: java.lang.StringIndexOutOfBoundsException: begin 0, end 3, length 2\n",
      "\tat java.base/java.lang.String.checkBoundsBeginEnd(String.java:3410)\n",
      "\tat java.base/java.lang.String.substring(String.java:1883)\n",
      "\tat org.apache.hadoop.util.Shell.<clinit>(Shell.java:52)\n",
      "\t... 23 more\n",
      "Traceback (most recent call last):\n",
      "  File \"/Users/xihajun/anaconda3/lib/python3.7/site-packages/pyspark/python/pyspark/shell.py\", line 38, in <module>\n",
      "    SparkContext._ensure_initialized()\n",
      "  File \"/Users/xihajun/anaconda3/lib/python3.7/site-packages/pyspark/context.py\", line 298, in _ensure_initialized\n",
      "    SparkContext._gateway = gateway or launch_gateway(conf)\n",
      "  File \"/Users/xihajun/anaconda3/lib/python3.7/site-packages/pyspark/java_gateway.py\", line 94, in launch_gateway\n",
      "    raise Exception(\"Java gateway process exited before sending its port number\")\n",
      "Exception: Java gateway process exited before sending its port number\n",
      ">>> "
     ]
    }
   ],
   "source": [
    "!pyspark"
   ]
  },
  {
   "cell_type": "code",
   "execution_count": null,
   "metadata": {},
   "outputs": [],
   "source": []
  }
 ],
 "metadata": {
  "kernelspec": {
   "display_name": "Python 3",
   "language": "python",
   "name": "python3"
  },
  "language_info": {
   "codemirror_mode": {
    "name": "ipython",
    "version": 3
   },
   "file_extension": ".py",
   "mimetype": "text/x-python",
   "name": "python",
   "nbconvert_exporter": "python",
   "pygments_lexer": "ipython3",
   "version": "3.7.1"
  },
  "toc": {
   "base_numbering": 1,
   "nav_menu": {},
   "number_sections": true,
   "sideBar": true,
   "skip_h1_title": false,
   "title_cell": "Table of Contents",
   "title_sidebar": "Contents",
   "toc_cell": false,
   "toc_position": {},
   "toc_section_display": true,
   "toc_window_display": false
  }
 },
 "nbformat": 4,
 "nbformat_minor": 2
}
